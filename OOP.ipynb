{
  "nbformat": 4,
  "nbformat_minor": 0,
  "metadata": {
    "colab": {
      "provenance": []
    },
    "kernelspec": {
      "name": "python3",
      "display_name": "Python 3"
    },
    "language_info": {
      "name": "python"
    }
  },
  "cells": [
    {
      "cell_type": "code",
      "execution_count": null,
      "metadata": {
        "colab": {
          "base_uri": "https://localhost:8080/"
        },
        "id": "rzjhD4Hj1NYQ",
        "outputId": "96df1ac7-889f-4907-b077-3290933d4036"
      },
      "outputs": [
        {
          "output_type": "stream",
          "name": "stdout",
          "text": [
            "test user\n",
            "ashish v\n",
            "ashish v\n"
          ]
        }
      ],
      "source": [
        "class Employee():\n",
        "  def __init__(self, first, last, pay):\n",
        "    self.first=first\n",
        "    self.last=last\n",
        "    self.pay=pay\n",
        "    self.email=first+'.'+last+'@company.com'\n",
        "\n",
        "  def fullname(self):#a method\n",
        "    return '{} {}'.format(self.first, self.last)\n",
        "\n",
        "\n",
        "emp_1=Employee('ashish', 'v', '5k')\n",
        "emp_2=Employee('test','user', '10k')\n",
        "\n",
        "\n",
        "print(emp_2.fullname())\n",
        "print(emp_1.fullname())\n",
        "print(Employee.fullname(emp_1))"
      ]
    },
    {
      "cell_type": "code",
      "source": [
        "class Person: #making a parent class so as not to repeat the common things in the 'child class'\n",
        "    def __init__(self, name, age): # are removed from the class Student and employee\n",
        "        self.name = name\n",
        "        self.age = age\n",
        "        #self.__age = age means this porperty is not passed down the sub classes. two underscores #its called private member of the class Person\n",
        "    \n",
        "    def display(self): # was common in the 'child class'\n",
        "        print(self.name, self.age)\n",
        "\n",
        "#inheritance allows child class to inherit properties from parent class \n",
        "#think of siblings getting drawing skills and brown hair\n",
        "#if there are common properties in children class we can bring it together in a common class called parent class\n",
        "#and both children can use those properties\n",
        "#or children can override or change the property\n",
        "#think of getting the hair colored blue\n",
        "#also the children class can add new properties or methods\n",
        "#think of it as learning to swim also along with the inherited property like sill to draw\n",
        "\n",
        "\n",
        "\n",
        "class Student(Person): #class defined, class Student inherit the porperties of parent class Person\n",
        "                        #Student is child class or subclass of the parent class or super class  Person\n",
        "\n",
        "    count = 0 # is a variable of the class or class attribute, doesnt belong any object. theres only one copy of it as it belongs to the class.\n",
        "\n",
        "\n",
        "    def __init__(self, name, age, marks): #self is the current object. roll_no and name are the function variables\n",
        "        super().__init__(name,age) #go to the super class and execute the  __init_ method there\n",
        "\n",
        "        #self.name = name #variable inside __init__ belongs to respective inidvidual  objects\n",
        "        #self.age = age #self.roll_no and self.name are object varibles, which are attributes of the object\n",
        "\n",
        "        self.marks = marks #specific to this object, so cannot be inherited from super class\n",
        "\n",
        "    def display(self): #display() is a method\n",
        "        #super().display() #this is inherited from super class, we replace it with sub class's own property\n",
        "        print(self.name, self. age, self.marks) #removed self.name and self.age as it is in the parent class\n",
        "\n",
        "    def result(self): #behaviour\n",
        "        if self.total > 120:\n",
        "            print('pass')\n",
        "        else:\n",
        "            print('fail')\n",
        "    #__init__(), display(), result() are function called methods  of class Student\n",
        "    # in python list is a class, so append(), sort() are functions called methods of the class list\n",
        "\n",
        "class Employee(Person):\n",
        "    def __init__(self,name,age,salary):\n",
        "        super().__init__(name,age)\n",
        "        #self.name = name\n",
        "        #self.age = age\n",
        "        self.salary = salary\n",
        "\n",
        "    def display(self):\n",
        "        super().display() #inherited from the super class or parent class \n",
        "        print(self.salary) # hasnt overridden inherited with own proterty\n",
        "\n",
        "s0 = Student('ashish',25,100) #an object in class, when executed value of self = s0, self holds the current object.\n",
        "s0.display()\n",
        "\n",
        "\n",
        "e = Employee('aswin',25,1000)\n",
        "e.display()\n",
        "\n",
        "\n",
        "\n",
        " "
      ],
      "metadata": {
        "id": "F0ndkWFy2FOl",
        "colab": {
          "base_uri": "https://localhost:8080/"
        },
        "outputId": "9441df48-2f57-4ff4-8cd3-b302ae848a2b"
      },
      "execution_count": null,
      "outputs": [
        {
          "output_type": "stream",
          "name": "stdout",
          "text": [
            "ashish 25 100\n",
            "aswin 25\n",
            "1000\n"
          ]
        }
      ]
    },
    {
      "cell_type": "code",
      "source": [
        "class Shape:\n",
        "    def __init__(self, name):\n",
        "        self.name = name\n",
        "        self.area = None\n",
        "        self.perimeter = None\n",
        "\n",
        "    def display(self):\n",
        "        print(f'{self.name} has an area of {self.area} and perimeter of {self.perimeter}')\n",
        "\n",
        "class Square(Shape):\n",
        "    def __init__(self,name,side):\n",
        "        super().__init__('Square')\n",
        "        self.side = side\n",
        "        self.compute_area()\n",
        "        self.compute_perimeter()\n",
        "\n",
        "    def compute_area(self):\n",
        "        self.area = self.side*self.side\n",
        "    def compute_perimeter(self):\n",
        "        self.perimeter =  4*self.side"
      ],
      "metadata": {
        "id": "-SVfEuyU2p8L"
      },
      "execution_count": null,
      "outputs": []
    },
    {
      "cell_type": "code",
      "source": [
        "class Test():\n",
        "    print(1)\n",
        "    def __init__(self):\n",
        "        print(2)\n",
        "    print(3)\n",
        "a = Test()\n",
        "b = Test()"
      ],
      "metadata": {
        "colab": {
          "base_uri": "https://localhost:8080/"
        },
        "id": "wGJneDwMTCqn",
        "outputId": "cd93ae35-249d-4175-f132-77488d61b4d5"
      },
      "execution_count": 1,
      "outputs": [
        {
          "output_type": "stream",
          "name": "stdout",
          "text": [
            "1\n",
            "3\n",
            "2\n",
            "2\n"
          ]
        }
      ]
    },
    {
      "cell_type": "code",
      "source": [
        "class Signal():\n",
        "    def __init__(self,T):\n",
        "        self.state = 'red' #initial state\n",
        "        self.v = 0 #initial vehicle density\n",
        "        self.T = T # threshold\n",
        "    \n",
        "    def sense(self, arg):\n",
        "        self.v = arg\n",
        "    \n",
        "    def update(self):\n",
        "        if self.v >= self.T:\n",
        "            self.state = 'green'\n",
        "        else:\n",
        "            self.state = 'red'\n",
        "        \n",
        "S = Signal(10)\n",
        "S.sense(11)\n",
        "S.update()\n",
        "print(S.state)"
      ],
      "metadata": {
        "id": "wngppV4aWOPt"
      },
      "execution_count": null,
      "outputs": []
    },
    {
      "cell_type": "code",
      "source": [
        "class Vector():\n",
        "    def __init__(self,x,y):\n",
        "        self.x = x\n",
        "        self.y = y\n",
        "\n",
        "    def print_info(self):\n",
        "        print(f'({self.x},{self.y})')\n",
        "    \n",
        "    def scale(self,arg):\n",
        "        self.x = arg*self.x\n",
        "        self.y = arg*self.y\n",
        "\n",
        "    def reflect_about_X(self):\n",
        "        self.y = -self.y\n",
        "\n",
        "    def reflect_about_Y(self):\n",
        "        self.x = -self.x\n",
        "    \n",
        "    def add(self, new):\n",
        "\n",
        "        sum_x = self.x + new.x\n",
        "        sum_y = self.y + new.y\n",
        "        return Vector(sum_x,sum_y)\n",
        "        \n",
        "\n",
        "        \n",
        "\n",
        "\n",
        "\n",
        "\n",
        "\n",
        "V = Vector(5, 2)\n",
        "V.add(Vector(3, 4)).print_info()"
      ],
      "metadata": {
        "id": "rOEmePb8VA9_"
      },
      "execution_count": null,
      "outputs": []
    }
  ]
}